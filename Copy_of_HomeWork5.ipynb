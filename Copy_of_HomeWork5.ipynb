{
  "nbformat": 4,
  "nbformat_minor": 0,
  "metadata": {
    "colab": {
      "name": "Copy of HomeWork5.ipynb",
      "provenance": [],
      "collapsed_sections": [],
      "authorship_tag": "ABX9TyP2TpQNVutnJ7466ZKcI59E",
      "include_colab_link": true
    },
    "kernelspec": {
      "name": "python3",
      "display_name": "Python 3"
    },
    "language_info": {
      "name": "python"
    }
  },
  "cells": [
    {
      "cell_type": "markdown",
      "metadata": {
        "id": "view-in-github",
        "colab_type": "text"
      },
      "source": [
        "<a href=\"https://colab.research.google.com/github/aalenaaleks/geekbrains/blob/lesson3/Copy_of_HomeWork5.ipynb\" target=\"_parent\"><img src=\"https://colab.research.google.com/assets/colab-badge.svg\" alt=\"Open In Colab\"/></a>"
      ]
    },
    {
      "cell_type": "code",
      "metadata": {
        "id": "atYe9_swzdHJ"
      },
      "source": [
        "import numpy as np\n",
        "import math\n",
        "import random \n",
        "import matplotlib.pyplot as plt\n",
        "from scipy.stats import binom"
      ],
      "execution_count": null,
      "outputs": []
    },
    {
      "cell_type": "markdown",
      "metadata": {
        "id": "sBlQ7HLu0yak"
      },
      "source": [
        "Exerc.1."
      ]
    },
    {
      "cell_type": "code",
      "metadata": {
        "id": "7kc07FIJ0JSd"
      },
      "source": [
        "def ruletka():\n",
        "  return random.randint(0,36)"
      ],
      "execution_count": null,
      "outputs": []
    },
    {
      "cell_type": "code",
      "metadata": {
        "colab": {
          "base_uri": "https://localhost:8080/"
        },
        "id": "w0yD25hb0gl1",
        "outputId": "c7701bc6-f120-40a7-81fd-bd6931947e39"
      },
      "source": [
        "ruletka()"
      ],
      "execution_count": null,
      "outputs": [
        {
          "output_type": "execute_result",
          "data": {
            "text/plain": [
              "28"
            ]
          },
          "metadata": {
            "tags": []
          },
          "execution_count": 46
        }
      ]
    },
    {
      "cell_type": "markdown",
      "metadata": {
        "id": "pORU3utx1LBM"
      },
      "source": [
        "Check: *Adding* of probabilities"
      ]
    },
    {
      "cell_type": "code",
      "metadata": {
        "colab": {
          "base_uri": "https://localhost:8080/",
          "height": 1000
        },
        "id": "VOG30_Lp1O-0",
        "outputId": "f15117d9-a2d8-4aa9-d93f-e2eaedcf68af"
      },
      "source": [
        "N=1000\n",
        "x=np.array([])\n",
        "x.resize(N)\n",
        "for n in range(N):\n",
        "  sum=0\n",
        "  for i in range(10):\n",
        "    sum=sum+random.randint(0,1)\n",
        "  x[n]=sum\n",
        "print(x)\n",
        "listOfSampleProbs,b,c=plt.hist(x,10)"
      ],
      "execution_count": null,
      "outputs": [
        {
          "output_type": "stream",
          "text": [
            "[ 6.  6.  5.  4.  6.  3.  7.  3.  5.  4.  5.  5.  4.  4.  3.  7.  9.  3.\n",
            "  5.  4.  5.  4.  5.  3.  5.  6.  4.  4.  3.  5.  3.  7.  6.  6.  3.  5.\n",
            "  5.  4.  3.  6.  2.  4.  5.  7.  8.  5.  6.  6.  5.  4.  4.  4.  5.  9.\n",
            "  4.  4.  7.  5.  5.  4.  5.  8.  4.  4.  4.  4.  5.  3.  6.  4.  4.  6.\n",
            "  5.  3.  7.  5.  5.  4.  5.  4.  7.  6.  5.  3.  4.  9.  6.  4.  8.  2.\n",
            "  3.  3.  7.  4.  6.  2. 10.  5.  5.  2.  3.  3.  6.  6.  5.  8.  5.  7.\n",
            "  4.  5.  6.  2.  5.  2.  5.  6.  6.  8.  2.  6.  4.  8.  5.  4.  7.  8.\n",
            "  3.  4.  8.  5.  4.  2.  6.  4.  3.  7.  1.  7.  5.  7.  4.  6.  6.  7.\n",
            "  3.  6.  6.  4.  5.  4.  5.  7.  7.  5.  8.  6.  6.  6.  4.  4.  6.  7.\n",
            "  8.  3.  6.  4.  7.  3.  5.  6.  5.  5.  5.  6.  4.  3.  8.  5.  7.  3.\n",
            "  4.  6.  5.  7.  4.  7.  4.  6.  5.  5.  6.  4.  4.  4.  5.  6.  4.  7.\n",
            "  2.  7.  9.  3.  5.  6.  7.  4.  7.  4.  4.  3.  4.  4.  3.  2.  8.  6.\n",
            "  3.  3.  5.  6.  5.  4.  3.  6.  4.  8.  5.  3.  5.  3.  5.  5.  4.  8.\n",
            "  6.  5.  2.  4.  5.  3.  5.  7.  4.  6.  2.  5.  7.  6.  7.  5.  6.  5.\n",
            "  3.  3.  5.  5.  3.  4.  6.  5.  6.  5.  7.  5.  6.  1.  5.  2.  2.  6.\n",
            "  6.  6.  4.  2.  5.  4.  4.  5.  5.  7.  4.  6.  4.  5.  4.  4.  7.  5.\n",
            "  5.  8.  5.  6.  4.  5.  3.  7.  3.  5.  6.  5.  7.  4.  6.  6.  3.  5.\n",
            "  3.  5.  4.  4.  4.  7.  7.  2.  7.  4.  3.  4.  8.  3.  7.  7.  3.  6.\n",
            "  4.  6.  4.  7.  4.  5.  5.  3.  6.  9.  4.  6.  7.  5.  6.  7.  5.  7.\n",
            "  7.  5.  2.  7.  4.  5.  3.  3.  6.  7.  2.  4.  4.  6.  7.  5.  7.  6.\n",
            "  3.  5.  4.  6.  5.  5.  5.  4.  4.  3.  7.  5.  6.  5.  3.  4.  5.  7.\n",
            "  4.  4.  6.  4.  6.  7.  5.  2.  5.  6.  4.  8.  6.  4.  6.  6.  2.  6.\n",
            "  2.  5.  3.  6.  6.  5.  6.  7.  3.  7.  6.  7.  4.  7.  6.  3.  4.  2.\n",
            "  4.  6.  6.  6.  8.  6.  8.  5.  8.  5.  3.  4.  5.  6.  4.  6.  7.  6.\n",
            "  6.  7.  7.  4.  3.  3.  7.  5.  3.  4.  4.  4.  2.  6.  4.  5.  4.  6.\n",
            "  5.  5.  6.  2.  4.  7.  3.  4.  3.  6.  3.  4.  4.  4.  6.  6.  5.  5.\n",
            "  5.  2.  6.  6.  6.  5.  4.  6.  3.  8.  3.  5.  5.  6.  6.  7.  8.  7.\n",
            "  3.  3.  5.  6.  1.  6.  6.  5.  3.  4.  2.  5.  7.  3.  6.  3.  5.  5.\n",
            "  6.  7.  6.  4.  5.  7.  8.  7.  5.  7.  4.  8.  3.  6.  3.  5.  6.  6.\n",
            "  8.  5.  5.  7.  7.  4.  6.  5.  4.  6.  3.  6.  6.  5.  1.  9.  4.  3.\n",
            "  8.  7.  5.  6.  7.  6.  5.  6.  4.  4.  7.  4.  6.  5.  7.  7.  3.  4.\n",
            "  1.  3.  8.  8.  5.  6.  3.  2.  3.  7.  7.  2.  4.  7.  6.  5.  7.  7.\n",
            "  6.  4.  7.  6.  6.  5.  6.  7.  4.  6.  5.  4.  4.  4.  5.  1.  3.  6.\n",
            "  3.  7.  4.  4.  6.  8.  5.  7.  5.  4.  6.  6.  2.  5.  5.  5.  5.  4.\n",
            "  4.  6.  6.  7.  5.  5.  5.  7.  1.  2.  5.  6.  6.  6.  5.  5.  4.  5.\n",
            "  4.  5.  6.  5.  6.  6.  6.  4.  7.  7.  3.  3.  4.  3.  5.  0.  5.  3.\n",
            "  7.  5.  6.  6.  4.  3.  4.  6.  4.  3.  6.  3.  7.  7.  6.  7.  3.  3.\n",
            "  5.  6.  3.  2.  3.  6.  7.  3.  4.  4.  8.  5.  5.  6.  5.  2.  7.  5.\n",
            "  2.  3.  6.  2.  6.  5.  7.  4.  5.  3.  7.  5.  4.  6.  6.  4.  4.  7.\n",
            "  5.  6.  6.  5.  7.  2.  6.  7.  5.  6.  6.  4.  7.  6.  5.  3.  5.  4.\n",
            "  7.  4.  6.  8.  5.  5.  7.  4.  5.  4.  4.  6.  5.  6.  6.  5.  7.  6.\n",
            "  3.  3.  5.  6.  8.  5.  4.  8.  5.  4.  5.  5.  6.  1.  4.  3.  7.  6.\n",
            "  7.  3.  5.  7.  8.  3.  5.  5.  6.  7.  5.  6.  3.  5.  7.  5.  3.  4.\n",
            "  4.  5.  8.  3.  9.  7.  3.  5.  6.  3.  3.  7.  5.  5.  5.  3.  7.  2.\n",
            "  6.  6.  4.  6.  5.  6.  6.  5.  3.  3.  6.  2.  6.  5.  3.  7.  5.  5.\n",
            "  4.  9.  5.  5.  4.  1.  6.  4.  5.  5.  7.  6.  4.  5.  5.  5.  7.  4.\n",
            "  3.  6.  5.  4.  3.  7.  7.  7.  7.  4.  5.  5.  3.  4.  5.  2.  5.  6.\n",
            "  5.  3.  4.  4.  6.  9.  5.  2.  7.  4.  6.  6.  4.  5.  7.  7.  5.  5.\n",
            "  7.  6.  4.  5.  5.  5.  3.  6.  1.  6.  3.  5.  7.  4.  6.  7.  5.  3.\n",
            "  4.  5.  3.  4.  5.  5.  4.  4.  4.  3.  4.  6.  6.  6.  6.  8.  5.  4.\n",
            "  4.  6.  5.  5.  4.  7.  5.  7.  7.  4.  6.  4.  6.  4.  4.  3.  4.  3.\n",
            "  4.  8.  5.  2.  5.  4.  4.  3.  2.  7.  7.  4.  3.  4.  4.  5.  5.  5.\n",
            "  6.  3.  7.  4.  1.  2.  8.  6.  2.  5.  7.  5.  6.  6.  6.  2.  6.  5.\n",
            "  5.  5.  8.  6.  4.  9.  5.  3.  8.  6.  7.  5.  3.  5.  4.  1.  7.  6.\n",
            "  5.  5.  4.  6.  3.  4.  3.  5.  5.  6.  5.  6.  5.  7.  5.  5.  3.  4.\n",
            "  6.  6.  5.  6.  7.  6.  3.  6.  3.  6.]\n"
          ],
          "name": "stdout"
        },
        {
          "output_type": "display_data",
          "data": {
            "image/png": "[encoded data removed]",
            "text/plain": [
              "<Figure size 432x288 with 1 Axes>"
            ]
          },
          "metadata": {
            "tags": [],
            "needs_background": "light"
          }
        }
      ]
    },
    {
      "cell_type": "code",
      "metadata": {
        "id": "-boRnirj-dYw"
      },
      "source": [
        ""
      ],
      "execution_count": null,
      "outputs": []
    },
    {
      "cell_type": "code",
      "metadata": {
        "id": "nBqlF7JL-hD8"
      },
      "source": [
        "Check binomial coefficient"
      ],
      "execution_count": null,
      "outputs": []
    },
    {
      "cell_type": "markdown",
      "metadata": {
        "id": "tTrF_jY1-d8s"
      },
      "source": [
        "*italicized text*"
      ]
    },
    {
      "cell_type": "code",
      "metadata": {
        "colab": {
          "base_uri": "https://localhost:8080/"
        },
        "id": "YwGVNiPu-eQ7",
        "outputId": "41705b25-99ef-45de-923e-dd9bb76cf029"
      },
      "source": [
        "print(listOfSampleProbs[3]/N)\n"
      ],
      "execution_count": null,
      "outputs": [
        {
          "output_type": "stream",
          "text": [
            "0.126\n"
          ],
          "name": "stdout"
        }
      ]
    },
    {
      "cell_type": "code",
      "metadata": {
        "colab": {
          "base_uri": "https://localhost:8080/"
        },
        "id": "yfqNAqdj_Wdk",
        "outputId": "dae2762b-8cfd-426f-e32d-3f0353815fd6"
      },
      "source": [
        "binom.pmf(k=3, n=10, p=0.5)"
      ],
      "execution_count": null,
      "outputs": [
        {
          "output_type": "execute_result",
          "data": {
            "text/plain": [
              "0.11718750000000014"
            ]
          },
          "metadata": {
            "tags": []
          },
          "execution_count": 68
        }
      ]
    },
    {
      "cell_type": "code",
      "metadata": {
        "colab": {
          "base_uri": "https://localhost:8080/"
        },
        "id": "dxZ-nK8m_6Yi",
        "outputId": "897fc075-8bdd-46e9-c079-834f83997b9d"
      },
      "source": [
        "listOfSampleProbs"
      ],
      "execution_count": null,
      "outputs": [
        {
          "output_type": "execute_result",
          "data": {
            "text/plain": [
              "array([  1.,  12.,  44., 126., 191., 236., 206., 133.,  40.,  11.])"
            ]
          },
          "metadata": {
            "tags": []
          },
          "execution_count": 69
        }
      ]
    },
    {
      "cell_type": "markdown",
      "metadata": {
        "id": "3mIvp3FCAh67"
      },
      "source": [
        "Easy to see that these numbers are close\n"
      ]
    }
  ]
}